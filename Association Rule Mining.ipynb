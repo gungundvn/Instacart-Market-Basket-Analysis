{
 "cells": [
  {
   "cell_type": "markdown",
   "id": "478f7854",
   "metadata": {},
   "source": [
    "Motivation\n",
    "\n",
    "The goal of this section is to identify frequent item associations in customer orders using the Apriori algorithm to generate rules of the form {A} → {B}. While the Apriori algorithm is widely used for association rule mining, it is not part of standard machine learning libraries like scikit-learn, and existing implementations often face scalability issues with large datasets.\n",
    "\n",
    "The Instacart dataset contains over 32 million records, 3.2 million unique orders, and around 50,000 unique items. Traditional methods like pandas.crosstab() or itertools.combinations() struggle to handle such scale due to high memory usage, often leading to kernel crashes on machines with limited RAM.\n",
    "\n",
    "To efficiently analyze pairwise item associations (itemsets of size 2), this implementation leverages Python generators, which yield one item pair at a time rather than storing all combinations in memory. This approach significantly reduces memory usage and enables scalable association analysis even on resource-constrained environments."
   ]
  },
  {
   "cell_type": "markdown",
   "id": "3dda41b2",
   "metadata": {},
   "source": [
    "Apriori Algorithm\n",
    "\n",
    "Apriori is an algorithm used to identify frequent item sets (in our case, item pairs). It does so using a \"bottom up\" approach, first identifying individual items that satisfy a minimum occurence threshold. It then extends the item set, adding one item at a time and checking if the resulting item set still satisfies the specified threshold. The algorithm stops when there are no more items to add that meet the minimum occurrence requirement."
   ]
  },
  {
   "cell_type": "markdown",
   "id": "0c8eefa3",
   "metadata": {},
   "source": [
    "Association Rules Mining\n",
    "\n",
    "Once the item sets have been generated using apriori, we can start mining association rules. Given that we are only looking at item sets of size 2, the association rules we will generate will be of the form {A} -> {B}. One common application of these rules is in the domain of recommender systems, where customers who purchased item A are recommended item B."
   ]
  },
  {
   "cell_type": "markdown",
   "id": "7fcd44bf",
   "metadata": {},
   "source": [
    "3 key metrics to consider when evaluating association rules:"
   ]
  },
  {
   "cell_type": "markdown",
   "id": "ba1bd37a",
   "metadata": {},
   "source": [
    "1. Support\n",
    "\n",
    "This is the percentage of orders that contains the item set."
   ]
  },
  {
   "cell_type": "markdown",
   "id": "361c98ce",
   "metadata": {},
   "source": [
    "2. Confidence\n",
    "\n",
    "Given two items, A and B, confidence measures the percentage of times that item B is purchased, given that item A was purchased. This is expressed as:\n",
    "\n",
    "confidence{A->B} = support{A,B} / support{A}"
   ]
  },
  {
   "cell_type": "markdown",
   "id": "0de700d2",
   "metadata": {},
   "source": [
    "3. Lift\n",
    "\n",
    "Given two items, A and B, lift indicates whether there is a relationship between A and B, or whether the two items are occuring together in the same orders simply by chance. Unlike the confidence metric whose value may vary depending on direction (eg: confidence{A->B} may be different from confidence{B->A}), lift has no direction. This means that the lift{A,B} is always equal to the lift{B,A}:\n",
    "\n",
    "lift{A,B} = lift{B,A} = support{A,B} / (support{A} * support{B})"
   ]
  },
  {
   "cell_type": "markdown",
   "id": "c9e58688",
   "metadata": {},
   "source": [
    "In summary, lift can take on the following values:\n",
    "\n",
    "lift = 1 implies no relationship between A and B. (ie: A and B occur together only by chance)\n",
    "\n",
    "lift > 1 implies that there is a positive relationship between A and B. (ie: A and B occur together more often than random)\n",
    "\n",
    "lift < 1 implies that there is a negative relationship between A and B. (ie: A and B occur together less often than random)"
   ]
  },
  {
   "cell_type": "code",
   "execution_count": 6,
   "id": "69b21dce",
   "metadata": {},
   "outputs": [],
   "source": [
    "import pandas as pd\n",
    "import numpy as np\n",
    "import sys\n",
    "from itertools import combinations, groupby\n",
    "from collections import Counter\n",
    "from IPython.display import display"
   ]
  },
  {
   "cell_type": "code",
   "execution_count": 7,
   "id": "caf378fc",
   "metadata": {},
   "outputs": [],
   "source": [
    "# Function that returns the size of an object in MB\n",
    "def size(obj):\n",
    "    return \"{0:.2f} MB\".format(sys.getsizeof(obj) / (1000 * 1000))"
   ]
  },
  {
   "cell_type": "markdown",
   "id": "1c0d0982",
   "metadata": {},
   "source": [
    "Data Preparation"
   ]
  },
  {
   "cell_type": "code",
   "execution_count": 8,
   "id": "017a13c2",
   "metadata": {},
   "outputs": [
    {
     "name": "stdout",
     "output_type": "stream",
     "text": [
      "orders -- dimensions: (32434489, 4);   size: 1037.90 MB\n"
     ]
    },
    {
     "data": {
      "text/html": [
       "<div>\n",
       "<style scoped>\n",
       "    .dataframe tbody tr th:only-of-type {\n",
       "        vertical-align: middle;\n",
       "    }\n",
       "\n",
       "    .dataframe tbody tr th {\n",
       "        vertical-align: top;\n",
       "    }\n",
       "\n",
       "    .dataframe thead th {\n",
       "        text-align: right;\n",
       "    }\n",
       "</style>\n",
       "<table border=\"1\" class=\"dataframe\">\n",
       "  <thead>\n",
       "    <tr style=\"text-align: right;\">\n",
       "      <th></th>\n",
       "      <th>order_id</th>\n",
       "      <th>product_id</th>\n",
       "      <th>add_to_cart_order</th>\n",
       "      <th>reordered</th>\n",
       "    </tr>\n",
       "  </thead>\n",
       "  <tbody>\n",
       "    <tr>\n",
       "      <th>0</th>\n",
       "      <td>2</td>\n",
       "      <td>33120</td>\n",
       "      <td>1</td>\n",
       "      <td>1</td>\n",
       "    </tr>\n",
       "    <tr>\n",
       "      <th>1</th>\n",
       "      <td>2</td>\n",
       "      <td>28985</td>\n",
       "      <td>2</td>\n",
       "      <td>1</td>\n",
       "    </tr>\n",
       "    <tr>\n",
       "      <th>2</th>\n",
       "      <td>2</td>\n",
       "      <td>9327</td>\n",
       "      <td>3</td>\n",
       "      <td>0</td>\n",
       "    </tr>\n",
       "    <tr>\n",
       "      <th>3</th>\n",
       "      <td>2</td>\n",
       "      <td>45918</td>\n",
       "      <td>4</td>\n",
       "      <td>1</td>\n",
       "    </tr>\n",
       "    <tr>\n",
       "      <th>4</th>\n",
       "      <td>2</td>\n",
       "      <td>30035</td>\n",
       "      <td>5</td>\n",
       "      <td>0</td>\n",
       "    </tr>\n",
       "  </tbody>\n",
       "</table>\n",
       "</div>"
      ],
      "text/plain": [
       "   order_id  product_id  add_to_cart_order  reordered\n",
       "0         2       33120                  1          1\n",
       "1         2       28985                  2          1\n",
       "2         2        9327                  3          0\n",
       "3         2       45918                  4          1\n",
       "4         2       30035                  5          0"
      ]
     },
     "metadata": {},
     "output_type": "display_data"
    }
   ],
   "source": [
    "orders = pd.read_csv('order_products__prior.csv')\n",
    "print('orders -- dimensions: {0};   size: {1}'.format(orders.shape, size(orders)))\n",
    "display(orders.head())"
   ]
  },
  {
   "cell_type": "markdown",
   "id": "5c60d4fe",
   "metadata": {},
   "source": [
    "Convert order data into format expected by the association rules function"
   ]
  },
  {
   "cell_type": "code",
   "execution_count": 9,
   "id": "9548d20c",
   "metadata": {},
   "outputs": [
    {
     "data": {
      "text/plain": [
       "order_id\n",
       "2    33120\n",
       "2    28985\n",
       "2     9327\n",
       "2    45918\n",
       "2    30035\n",
       "2    17794\n",
       "2    40141\n",
       "2     1819\n",
       "2    43668\n",
       "3    33754\n",
       "Name: item_id, dtype: int64"
      ]
     },
     "metadata": {},
     "output_type": "display_data"
    },
    {
     "data": {
      "text/plain": [
       "pandas.core.series.Series"
      ]
     },
     "execution_count": 9,
     "metadata": {},
     "output_type": "execute_result"
    }
   ],
   "source": [
    "# Convert from DataFrame to a Series, with order_id as index and item_id as value\n",
    "orders = orders.set_index('order_id')['product_id'].rename('item_id')\n",
    "display(orders.head(10))\n",
    "type(orders)\n"
   ]
  },
  {
   "cell_type": "markdown",
   "id": "b7046ce8",
   "metadata": {},
   "source": [
    "Display summary statistics for order data"
   ]
  },
  {
   "cell_type": "code",
   "execution_count": 10,
   "id": "86cb7191",
   "metadata": {},
   "outputs": [
    {
     "name": "stdout",
     "output_type": "stream",
     "text": [
      "dimensions: (32434489,);   size: 518.95 MB;   unique_orders: 3214874;   unique_items: 49677\n"
     ]
    }
   ],
   "source": [
    "print('dimensions: {0};   size: {1};   unique_orders: {2};   unique_items: {3}'\n",
    "      .format(orders.shape, size(orders), len(orders.index.unique()), len(orders.value_counts())))"
   ]
  },
  {
   "cell_type": "markdown",
   "id": "3b121958",
   "metadata": {},
   "source": [
    "Association Rules Function"
   ]
  },
  {
   "cell_type": "code",
   "execution_count": null,
   "id": "7341e9c8",
   "metadata": {},
   "outputs": [],
   "source": [
    "from collections import Counter, defaultdict\n",
    "from itertools import combinations, groupby\n",
    "import pandas as pd\n",
    "\n",
    "# Defining helper functions\n",
    "def freq(generator):\n",
    "    counts = defaultdict(int)\n",
    "    for item in generator:\n",
    "        counts[item] += 1\n",
    "    return pd.Series(counts).rename(\"freq\")\n",
    "\n",
    "def order_count(order_item):\n",
    "    return len(set(order_item.index))\n",
    "\n",
    "def get_item_pairs(order_item):\n",
    "    order_item = order_item.reset_index().values\n",
    "    for order_id, order_object in groupby(order_item, lambda x: x[0]):\n",
    "        item_list = [item[1] for item in order_object]\n",
    "        for item_pair in combinations(item_list, 2):\n",
    "            yield tuple(sorted(item_pair))  # sort to ensure (A,B) = (B,A)\n",
    "\n",
    "def merge_item_stats(item_pairs, item_stats):\n",
    "    return (item_pairs\n",
    "                .merge(item_stats.rename(columns={'freq': 'freqA', 'support': 'supportA'}), left_on='item_A', right_index=True)\n",
    "                .merge(item_stats.rename(columns={'freq': 'freqB', 'support': 'supportB'}), left_on='item_B', right_index=True))\n",
    "\n",
    "def merge_item_name(rules, item_name):\n",
    "    columns = ['itemA','itemB','freqAB','supportAB','freqA','supportA','freqB','supportB', \n",
    "               'confidenceAtoB','confidenceBtoA','lift']\n",
    "    rules = (rules\n",
    "                .merge(item_name.rename(columns={'item_name': 'itemA'}), left_on='item_A', right_on='item_id')\n",
    "                .merge(item_name.rename(columns={'item_name': 'itemB'}), left_on='item_B', right_on='item_id'))\n",
    "    return rules[columns]\n",
    "\n",
    "# Load and convert orders to expected format (order_id as index, product_id as values)\n",
    "orders_df = pd.read_csv('orders.csv')\n",
    "prior = pd.read_csv('order_products__prior.csv')\n",
    "orders = prior.merge(orders_df[['order_id']], on='order_id')\n",
    "orders = orders.set_index('order_id')['product_id'].rename('item_id')  # Series format\n",
    "\n",
    "# Association rule mining function\n",
    "def association_rules(order_item, min_support):\n",
    "\n",
    "    print(\"Starting order_item: {:22d}\".format(len(order_item)))\n",
    "\n",
    "    item_stats = freq(order_item).to_frame(\"freq\")\n",
    "    item_stats['support'] = item_stats['freq'] / order_count(order_item) * 100\n",
    "\n",
    "    qualifying_items = item_stats[item_stats['support'] >= min_support].index\n",
    "    order_item = order_item[order_item.isin(qualifying_items)]\n",
    "\n",
    "    print(\"Items with support >= {}: {:15d}\".format(min_support, len(qualifying_items)))\n",
    "    print(\"Remaining order_item: {:21d}\".format(len(order_item)))\n",
    "\n",
    "    order_size = freq(order_item.index)\n",
    "    qualifying_orders = order_size[order_size >= 2].index\n",
    "    order_item = order_item[order_item.index.isin(qualifying_orders)]\n",
    "\n",
    "    print(\"Remaining orders with 2+ items: {:11d}\".format(len(qualifying_orders)))\n",
    "    print(\"Remaining order_item: {:21d}\".format(len(order_item)))\n",
    "\n",
    "    item_stats = freq(order_item).to_frame(\"freq\")\n",
    "    item_stats['support'] = item_stats['freq'] / order_count(order_item) * 100\n",
    "\n",
    "    # Reduce to most frequent items to save memory\n",
    "    top_items = item_stats.sort_values(\"support\", ascending=False).head(1000).index\n",
    "    order_item = order_item[order_item.isin(top_items)]\n",
    "\n",
    "    item_pair_gen = get_item_pairs(order_item)\n",
    "\n",
    "    item_pairs = freq(item_pair_gen).to_frame(\"freqAB\")\n",
    "    item_pairs['supportAB'] = item_pairs['freqAB'] / len(qualifying_orders) * 100\n",
    "\n",
    "    print(\"Item pairs: {:31d}\".format(len(item_pairs)))\n",
    "\n",
    "    item_pairs = item_pairs[item_pairs['supportAB'] >= min_support]\n",
    "\n",
    "    print(\"Item pairs with support >= {}: {:10d}\\n\".format(min_support, len(item_pairs)))\n",
    "\n",
    "    item_pairs.index = pd.MultiIndex.from_tuples(item_pairs.index, names=['item_A', 'item_B'])\n",
    "    item_pairs = item_pairs.reset_index()\n",
    "\n",
    "    item_pairs = merge_item_stats(item_pairs, item_stats)\n",
    "\n",
    "    item_pairs['confidenceAtoB'] = item_pairs['supportAB'] / item_pairs['supportA']\n",
    "    item_pairs['confidenceBtoA'] = item_pairs['supportAB'] / item_pairs['supportB']\n",
    "    item_pairs['lift'] = item_pairs['supportAB'] / (item_pairs['supportA'] * item_pairs['supportB'])\n",
    "\n",
    "    return item_pairs.sort_values('lift', ascending=False)\n"
   ]
  },
  {
   "cell_type": "markdown",
   "id": "05a74392",
   "metadata": {},
   "source": [
    "Association Rule Mining"
   ]
  },
  {
   "cell_type": "code",
   "execution_count": 26,
   "id": "eaf8db59",
   "metadata": {},
   "outputs": [
    {
     "name": "stdout",
     "output_type": "stream",
     "text": [
      "Starting order_item:               32434489\n",
      "Items with support >= 0.01:           10906\n",
      "Remaining order_item:              29843570\n",
      "Remaining orders with 2+ items:     3013325\n",
      "Remaining order_item:              29662716\n",
      "Item pairs:                          477048\n",
      "Item pairs with support >= 0.01:      49528\n",
      "\n",
      "Execution time: 177.66 seconds\n"
     ]
    },
    {
     "data": {
      "text/html": [
       "<div>\n",
       "<style scoped>\n",
       "    .dataframe tbody tr th:only-of-type {\n",
       "        vertical-align: middle;\n",
       "    }\n",
       "\n",
       "    .dataframe tbody tr th {\n",
       "        vertical-align: top;\n",
       "    }\n",
       "\n",
       "    .dataframe thead th {\n",
       "        text-align: right;\n",
       "    }\n",
       "</style>\n",
       "<table border=\"1\" class=\"dataframe\">\n",
       "  <thead>\n",
       "    <tr style=\"text-align: right;\">\n",
       "      <th></th>\n",
       "      <th>itemA</th>\n",
       "      <th>itemB</th>\n",
       "      <th>freqAB</th>\n",
       "      <th>supportAB</th>\n",
       "      <th>freqA</th>\n",
       "      <th>supportA</th>\n",
       "      <th>freqB</th>\n",
       "      <th>supportB</th>\n",
       "      <th>confidenceAtoB</th>\n",
       "      <th>confidenceBtoA</th>\n",
       "      <th>lift</th>\n",
       "    </tr>\n",
       "  </thead>\n",
       "  <tbody>\n",
       "    <tr>\n",
       "      <th>0</th>\n",
       "      <td>Yotoddler Organic Pear Spinach Mango Yogurt</td>\n",
       "      <td>Organic Whole Milk Strawberry Beet Berry Yogur...</td>\n",
       "      <td>2823</td>\n",
       "      <td>0.093684</td>\n",
       "      <td>6121</td>\n",
       "      <td>0.203131</td>\n",
       "      <td>6272</td>\n",
       "      <td>0.208142</td>\n",
       "      <td>0.461199</td>\n",
       "      <td>0.450096</td>\n",
       "      <td>2.215789</td>\n",
       "    </tr>\n",
       "    <tr>\n",
       "      <th>1</th>\n",
       "      <td>Vanilla Almond Milk Yogurt</td>\n",
       "      <td>Almond Milk Strawberry Yogurt</td>\n",
       "      <td>1811</td>\n",
       "      <td>0.060100</td>\n",
       "      <td>5436</td>\n",
       "      <td>0.180399</td>\n",
       "      <td>5712</td>\n",
       "      <td>0.189558</td>\n",
       "      <td>0.333149</td>\n",
       "      <td>0.317052</td>\n",
       "      <td>1.757506</td>\n",
       "    </tr>\n",
       "    <tr>\n",
       "      <th>2</th>\n",
       "      <td>Blueberry on the Bottom Nonfat Greek Yogurt</td>\n",
       "      <td>Strawberry on the Bottom Nonfat Greek Yogurt</td>\n",
       "      <td>2767</td>\n",
       "      <td>0.091825</td>\n",
       "      <td>6370</td>\n",
       "      <td>0.211394</td>\n",
       "      <td>7625</td>\n",
       "      <td>0.253043</td>\n",
       "      <td>0.434380</td>\n",
       "      <td>0.362885</td>\n",
       "      <td>1.716627</td>\n",
       "    </tr>\n",
       "    <tr>\n",
       "      <th>3</th>\n",
       "      <td>Organic Greek Nonfat Yogurt With Mixed Berries</td>\n",
       "      <td>Organic Nonfat Greek Yogurt With Peaches</td>\n",
       "      <td>2208</td>\n",
       "      <td>0.073275</td>\n",
       "      <td>6888</td>\n",
       "      <td>0.228585</td>\n",
       "      <td>6063</td>\n",
       "      <td>0.201206</td>\n",
       "      <td>0.320557</td>\n",
       "      <td>0.364176</td>\n",
       "      <td>1.593178</td>\n",
       "    </tr>\n",
       "    <tr>\n",
       "      <th>4</th>\n",
       "      <td>Cherry Pie Fruit &amp; Nut Bar</td>\n",
       "      <td>Apple Pie Fruit &amp; Nut Food Bar</td>\n",
       "      <td>2002</td>\n",
       "      <td>0.066438</td>\n",
       "      <td>5536</td>\n",
       "      <td>0.183717</td>\n",
       "      <td>7469</td>\n",
       "      <td>0.247866</td>\n",
       "      <td>0.361633</td>\n",
       "      <td>0.268041</td>\n",
       "      <td>1.458987</td>\n",
       "    </tr>\n",
       "    <tr>\n",
       "      <th>5</th>\n",
       "      <td>Strawberry Rhubarb Yogurt</td>\n",
       "      <td>Mixed Berries Whole Milk Icelandic Style Skyr ...</td>\n",
       "      <td>2292</td>\n",
       "      <td>0.076062</td>\n",
       "      <td>6562</td>\n",
       "      <td>0.217766</td>\n",
       "      <td>7214</td>\n",
       "      <td>0.239403</td>\n",
       "      <td>0.349284</td>\n",
       "      <td>0.317716</td>\n",
       "      <td>1.458976</td>\n",
       "    </tr>\n",
       "    <tr>\n",
       "      <th>6</th>\n",
       "      <td>Blueberry on the Bottom Nonfat Greek Yogurt</td>\n",
       "      <td>Peach on the Bottom Nonfat Greek Yogurt</td>\n",
       "      <td>2371</td>\n",
       "      <td>0.078684</td>\n",
       "      <td>6370</td>\n",
       "      <td>0.211394</td>\n",
       "      <td>7768</td>\n",
       "      <td>0.257788</td>\n",
       "      <td>0.372214</td>\n",
       "      <td>0.305227</td>\n",
       "      <td>1.443873</td>\n",
       "    </tr>\n",
       "    <tr>\n",
       "      <th>7</th>\n",
       "      <td>Peach on the Bottom Nonfat Greek Yogurt</td>\n",
       "      <td>Strawberry on the Bottom Nonfat Greek Yogurt</td>\n",
       "      <td>2665</td>\n",
       "      <td>0.088441</td>\n",
       "      <td>7768</td>\n",
       "      <td>0.257788</td>\n",
       "      <td>7625</td>\n",
       "      <td>0.253043</td>\n",
       "      <td>0.343074</td>\n",
       "      <td>0.349508</td>\n",
       "      <td>1.355795</td>\n",
       "    </tr>\n",
       "    <tr>\n",
       "      <th>8</th>\n",
       "      <td>Broccoli &amp; Apple Stage 2 Baby Food</td>\n",
       "      <td>Spinach Peas &amp; Pear Stage 2 Baby Food</td>\n",
       "      <td>2339</td>\n",
       "      <td>0.077622</td>\n",
       "      <td>6830</td>\n",
       "      <td>0.226660</td>\n",
       "      <td>8030</td>\n",
       "      <td>0.266483</td>\n",
       "      <td>0.342460</td>\n",
       "      <td>0.291283</td>\n",
       "      <td>1.285109</td>\n",
       "    </tr>\n",
       "    <tr>\n",
       "      <th>9</th>\n",
       "      <td>Blueberry Muffin Bar</td>\n",
       "      <td>Apple Pie Fruit &amp; Nut Food Bar</td>\n",
       "      <td>1826</td>\n",
       "      <td>0.060598</td>\n",
       "      <td>5749</td>\n",
       "      <td>0.190786</td>\n",
       "      <td>7469</td>\n",
       "      <td>0.247866</td>\n",
       "      <td>0.317620</td>\n",
       "      <td>0.244477</td>\n",
       "      <td>1.281421</td>\n",
       "    </tr>\n",
       "  </tbody>\n",
       "</table>\n",
       "</div>"
      ],
      "text/plain": [
       "                                            itemA  \\\n",
       "0     Yotoddler Organic Pear Spinach Mango Yogurt   \n",
       "1                      Vanilla Almond Milk Yogurt   \n",
       "2     Blueberry on the Bottom Nonfat Greek Yogurt   \n",
       "3  Organic Greek Nonfat Yogurt With Mixed Berries   \n",
       "4                      Cherry Pie Fruit & Nut Bar   \n",
       "5                       Strawberry Rhubarb Yogurt   \n",
       "6     Blueberry on the Bottom Nonfat Greek Yogurt   \n",
       "7         Peach on the Bottom Nonfat Greek Yogurt   \n",
       "8              Broccoli & Apple Stage 2 Baby Food   \n",
       "9                            Blueberry Muffin Bar   \n",
       "\n",
       "                                               itemB  freqAB  supportAB  \\\n",
       "0  Organic Whole Milk Strawberry Beet Berry Yogur...    2823   0.093684   \n",
       "1                      Almond Milk Strawberry Yogurt    1811   0.060100   \n",
       "2       Strawberry on the Bottom Nonfat Greek Yogurt    2767   0.091825   \n",
       "3           Organic Nonfat Greek Yogurt With Peaches    2208   0.073275   \n",
       "4                     Apple Pie Fruit & Nut Food Bar    2002   0.066438   \n",
       "5  Mixed Berries Whole Milk Icelandic Style Skyr ...    2292   0.076062   \n",
       "6            Peach on the Bottom Nonfat Greek Yogurt    2371   0.078684   \n",
       "7       Strawberry on the Bottom Nonfat Greek Yogurt    2665   0.088441   \n",
       "8              Spinach Peas & Pear Stage 2 Baby Food    2339   0.077622   \n",
       "9                     Apple Pie Fruit & Nut Food Bar    1826   0.060598   \n",
       "\n",
       "   freqA  supportA  freqB  supportB  confidenceAtoB  confidenceBtoA      lift  \n",
       "0   6121  0.203131   6272  0.208142        0.461199        0.450096  2.215789  \n",
       "1   5436  0.180399   5712  0.189558        0.333149        0.317052  1.757506  \n",
       "2   6370  0.211394   7625  0.253043        0.434380        0.362885  1.716627  \n",
       "3   6888  0.228585   6063  0.201206        0.320557        0.364176  1.593178  \n",
       "4   5536  0.183717   7469  0.247866        0.361633        0.268041  1.458987  \n",
       "5   6562  0.217766   7214  0.239403        0.349284        0.317716  1.458976  \n",
       "6   6370  0.211394   7768  0.257788        0.372214        0.305227  1.443873  \n",
       "7   7768  0.257788   7625  0.253043        0.343074        0.349508  1.355795  \n",
       "8   6830  0.226660   8030  0.266483        0.342460        0.291283  1.285109  \n",
       "9   5749  0.190786   7469  0.247866        0.317620        0.244477  1.281421  "
      ]
     },
     "metadata": {},
     "output_type": "display_data"
    }
   ],
   "source": [
    "# Run association rule mining\n",
    "import time\n",
    "\n",
    "start = time.time()\n",
    "rules = association_rules(orders, min_support=0.01)\n",
    "end = time.time()\n",
    "print(f\"Execution time: {end - start:.2f} seconds\")\n",
    "\n",
    "# Load item names and merge with rules\n",
    "item_name = pd.read_csv('products.csv')\n",
    "item_name = item_name.rename(columns={'product_id': 'item_id', 'product_name': 'item_name'})\n",
    "\n",
    "rules_final = merge_item_name(rules, item_name)\n",
    "display(rules_final.head(10))"
   ]
  },
  {
   "cell_type": "markdown",
   "id": "63737ba5",
   "metadata": {},
   "source": [
    "Conclusion"
   ]
  },
  {
   "cell_type": "markdown",
   "id": "afb9b47f",
   "metadata": {},
   "source": [
    "From the output above, we see that the top associations are not surprising, with one flavor of an item being purchased with another flavor from the same item family. As mentioned, one common application of association rules mining is in the domain of recommender systems. Once item pairs have been identified as having positive relationship, recommendations can be made to customers in order to increase sales. And hopefully, along the way, also introduce customers to items they never would have tried before or even imagined existed!"
   ]
  }
 ],
 "metadata": {
  "kernelspec": {
   "display_name": "Python 3",
   "language": "python",
   "name": "python3"
  },
  "language_info": {
   "codemirror_mode": {
    "name": "ipython",
    "version": 3
   },
   "file_extension": ".py",
   "mimetype": "text/x-python",
   "name": "python",
   "nbconvert_exporter": "python",
   "pygments_lexer": "ipython3",
   "version": "3.12.4"
  }
 },
 "nbformat": 4,
 "nbformat_minor": 5
}
